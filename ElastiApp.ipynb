{
 "cells": [
  {
   "cell_type": "code",
   "execution_count": null,
   "metadata": {},
   "outputs": [],
   "source": [
    "import json\n",
    "import requests\n",
    "import pandas as pd\n",
    "from functions import *\n",
    "from elasticsearch import Elasticsearch\n",
    "from pyspark.sql import SparkSession, SQLContext\n",
    "#from pyspark import SparkConf, SparkContext"
   ]
  },
  {
   "cell_type": "code",
   "execution_count": null,
   "metadata": {},
   "outputs": [],
   "source": [
    "_es = Elasticsearch(\n",
    "        [{\n",
    "            'host':'kib.t1.soc.ecssec.ru',\n",
    "            'port':'9200',\n",
    "            'http_auth':('', '')\n",
    "        }])"
   ]
  },
  {
   "cell_type": "code",
   "execution_count": null,
   "metadata": {},
   "outputs": [],
   "source": [
    "def connect_to_elastic():\n",
    "    if(_es.ping()):\n",
    "        print(\"Connected\")\n",
    "    else:\n",
    "        print(\"Unable to connect\")\n",
    "    return _es\n",
    "connect_to_elastic()"
   ]
  },
  {
   "cell_type": "code",
   "execution_count": null,
   "metadata": {},
   "outputs": [],
   "source": [
    "if __name__ == \"__main__\":\n",
    "    logs_index = \"dbkasperskysc_index_2021.06.29\"\n",
    "    if(_es.ping()):\n",
    "        result = _es.get(\n",
    "            index=logs_index,\n",
    "            id=\"DU8oUnoBJ-JE91v2wv_H\"\n",
    "        )\n",
    "        print(result)\n",
    "    else:\n",
    "        print(\"Unable to connect\")"
   ]
  },
  {
   "cell_type": "code",
   "execution_count": null,
   "metadata": {},
   "outputs": [],
   "source": [
    "res = _es.search(\n",
    "    index=logs_index,\n",
    "    body={\n",
    "        \"query\":{\"match\": {\n",
    "           \"group.name\":\"Ufa-Gubaydullina\"\n",
    "        }}\n",
    "    }, size=1, track_total_hits=True)\n"
   ]
  },
  {
   "cell_type": "code",
   "execution_count": null,
   "metadata": {},
   "outputs": [],
   "source": [
    "len(res[\"hits\"][\"hits\"])"
   ]
  },
  {
   "cell_type": "code",
   "execution_count": null,
   "metadata": {},
   "outputs": [],
   "source": [
    "type(_es)"
   ]
  },
  {
   "cell_type": "code",
   "execution_count": null,
   "metadata": {},
   "outputs": [],
   "source": [
    "res[\"hits\"][\"total\"][\"value\"]"
   ]
  },
  {
   "cell_type": "code",
   "execution_count": null,
   "metadata": {},
   "outputs": [],
   "source": [
    "res[\"hits\"][\"hits\"][200][\"_source\"][\"network\"][\"forwarded_ip\"]"
   ]
  },
  {
   "cell_type": "code",
   "execution_count": null,
   "metadata": {
    "tags": []
   },
   "outputs": [],
   "source": [
    "addresses = []\n",
    "for ip in res[\"hits\"][\"hits\"]:\n",
    "    try:#print(ip[\"_index\"])\n",
    "        addresses.append(ip[\"_source\"][\"network\"][\"forwarded_ip\"])\n",
    "        #print(print(ip[\"_source\"][\"network\"][\"forwarded_ip\"]))\n",
    "    except:\n",
    "        continue\n",
    "print(addresses)\n",
    "    #res[\"hits\"][\"hits\"][0][\"_source\"][\"network\"][\"forwarded_ip\"]"
   ]
  },
  {
   "cell_type": "code",
   "execution_count": null,
   "metadata": {},
   "outputs": [],
   "source": [
    "all_res = _es.search(\n",
    "    index=logs_index,\n",
    "    body={\n",
    "        \"query\":{\"match\": {\n",
    "           \"_index\":\"dbkasperskysc_index_2021.06.28\"\n",
    "        }}\n",
    "    }, size=1)"
   ]
  },
  {
   "cell_type": "code",
   "execution_count": null,
   "metadata": {},
   "outputs": [],
   "source": [
    "len(all_res[\"hits\"][\"hits\"])"
   ]
  },
  {
   "cell_type": "code",
   "execution_count": null,
   "metadata": {},
   "outputs": [],
   "source": [
    "type(all_res[\"hits\"][\"hits\"])"
   ]
  },
  {
   "cell_type": "code",
   "execution_count": null,
   "metadata": {},
   "outputs": [],
   "source": [
    "extracted = pd.json_normalize(all_res[\"hits\"][\"hits\"])"
   ]
  },
  {
   "cell_type": "code",
   "execution_count": null,
   "metadata": {},
   "outputs": [],
   "source": [
    "extracted"
   ]
  },
  {
   "cell_type": "code",
   "execution_count": null,
   "metadata": {},
   "outputs": [],
   "source": [
    "some_res = _es.search(\n",
    "    index=logs_index,\n",
    "    body={\n",
    "        \"query\":{\"match\": {\n",
    "           \"_index\":\"dbkasperskysc_index_2021.06.29\"\n",
    "        }}\n",
    "    },size=0, track_total_hits=True)"
   ]
  },
  {
   "cell_type": "code",
   "execution_count": null,
   "metadata": {},
   "outputs": [],
   "source": [
    "some_res"
   ]
  },
  {
   "cell_type": "code",
   "execution_count": null,
   "metadata": {},
   "outputs": [],
   "source": [
    "total_docs = some_res[\"hits\"][\"total\"][\"value\"]"
   ]
  },
  {
   "cell_type": "code",
   "execution_count": null,
   "metadata": {},
   "outputs": [],
   "source": [
    "total_docs"
   ]
  },
  {
   "cell_type": "code",
   "execution_count": null,
   "metadata": {},
   "outputs": [],
   "source": [
    "some_res"
   ]
  },
  {
   "cell_type": "markdown",
   "metadata": {},
   "source": [
    "Получение всех индексов с эластика кроме системных."
   ]
  },
  {
   "cell_type": "code",
   "execution_count": null,
   "metadata": {},
   "outputs": [],
   "source": [
    "indices = [n for n in sorted(list(_es.indices.get_alias(\"*\").keys())) if not n.startswith(\".\")]"
   ]
  },
  {
   "cell_type": "code",
   "execution_count": null,
   "metadata": {},
   "outputs": [],
   "source": [
    "indices"
   ]
  },
  {
   "cell_type": "code",
   "execution_count": null,
   "metadata": {
    "tags": [
     "outputPrepend"
    ]
   },
   "outputs": [],
   "source": [
    "results = []\n",
    "for index in indices:\n",
    "    try:\n",
    "        result = _es.search(\n",
    "                index=index,\n",
    "                body={\n",
    "                    \"query\":{\"match\": {\n",
    "                    \"_index\":index\n",
    "            }}\n",
    "        }, size=1)\n",
    "        results.append(result[\"hits\"][\"hits\"])\n",
    "        print(result[\"hits\"][\"hits\"], end='\\n\\n')\n",
    "        input()\n",
    "    except:\n",
    "        continue"
   ]
  },
  {
   "cell_type": "code",
   "execution_count": null,
   "metadata": {},
   "outputs": [],
   "source": [
    "len(results), len(indices)"
   ]
  },
  {
   "cell_type": "code",
   "execution_count": null,
   "metadata": {},
   "outputs": [],
   "source": [
    "ind = get_all_indices(_es)\n",
    "print(ind[0])"
   ]
  },
  {
   "cell_type": "code",
   "execution_count": null,
   "metadata": {},
   "outputs": [],
   "source": []
  }
 ],
 "metadata": {
  "interpreter": {
   "hash": "d764d2d322bd3cc29f2fd2373d3a9afdfa531422aa95ff86b864dbf920abbfbf"
  },
  "kernelspec": {
   "display_name": "Python 3.9.6 64-bit",
   "name": "python3"
  },
  "language_info": {
   "codemirror_mode": {
    "name": "ipython",
    "version": 3
   },
   "file_extension": ".py",
   "mimetype": "text/x-python",
   "name": "python",
   "nbconvert_exporter": "python",
   "pygments_lexer": "ipython3",
   "version": "3.9.6"
  },
  "orig_nbformat": 4
 },
 "nbformat": 4,
 "nbformat_minor": 2
}
